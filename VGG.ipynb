{
 "cells": [
  {
   "cell_type": "code",
   "execution_count": 1,
   "metadata": {},
   "outputs": [],
   "source": [
    "import tensorflow as tf"
   ]
  },
  {
   "cell_type": "code",
   "execution_count": 2,
   "metadata": {},
   "outputs": [],
   "source": [
    "def vgg_block(filters,channels):\n",
    "    vb = tf.keras.Sequential()\n",
    "    for _ in range(filters):\n",
    "        vb.add(tf.keras.layers.Conv2D(channels,(3,3),padding='same',activation='relu'))\n",
    "    vb.add(tf.keras.layers.MaxPool2D(2,2))\n",
    "    return vb"
   ]
  },
  {
   "cell_type": "code",
   "execution_count": 3,
   "metadata": {},
   "outputs": [],
   "source": [
    "def vgg(conv_arch):\n",
    "    net = tf.keras.Sequential()\n",
    "    for (filters,channels) in conv_arch:\n",
    "        net.add(vgg_block(filters,channels))\n",
    "    net.add(tf.keras.Sequential([\n",
    "        tf.keras.layers.Flatten(),\n",
    "        tf.keras.layers.Dense(4096,activation='relu'),\n",
    "        tf.keras.layers.Dropout(0.5),\n",
    "        tf.keras.layers.Dense(4096,activation='relu'),\n",
    "        tf.keras.layers.Dropout(0.5),\n",
    "        tf.keras.layers.Dense(1000,activation='softmax')\n",
    "    ]))\n",
    "    return net"
   ]
  },
  {
   "cell_type": "code",
   "execution_count": 6,
   "metadata": {},
   "outputs": [],
   "source": [
    "#VGG-19\n",
    "conv_arch = ((2,64),(2,128),(4,256),(4,512),(4,512))"
   ]
  },
  {
   "cell_type": "code",
   "execution_count": 7,
   "metadata": {},
   "outputs": [],
   "source": [
    "net = vgg(conv_arch)"
   ]
  },
  {
   "cell_type": "code",
   "execution_count": 8,
   "metadata": {},
   "outputs": [],
   "source": [
    "net.compile(optimizer='adam',loss='categorical_crossentropy',metrics=['accuracy'])"
   ]
  },
  {
   "cell_type": "code",
   "execution_count": 10,
   "metadata": {},
   "outputs": [
    {
     "name": "stdout",
     "output_type": "stream",
     "text": [
      "Model: \"sequential_7\"\n",
      "_________________________________________________________________\n",
      "Layer (type)                 Output Shape              Param #   \n",
      "=================================================================\n",
      "sequential_8 (Sequential)    (1, 112, 112, 64)         38720     \n",
      "_________________________________________________________________\n",
      "sequential_9 (Sequential)    (1, 56, 56, 128)          221440    \n",
      "_________________________________________________________________\n",
      "sequential_10 (Sequential)   (1, 28, 28, 256)          2065408   \n",
      "_________________________________________________________________\n",
      "sequential_11 (Sequential)   (1, 14, 14, 512)          8259584   \n",
      "_________________________________________________________________\n",
      "sequential_12 (Sequential)   (1, 7, 7, 512)            9439232   \n",
      "_________________________________________________________________\n",
      "sequential_13 (Sequential)   (1, 1000)                 123642856 \n",
      "=================================================================\n",
      "Total params: 143,667,240\n",
      "Trainable params: 143,667,240\n",
      "Non-trainable params: 0\n",
      "_________________________________________________________________\n"
     ]
    }
   ],
   "source": [
    "net.build(input_shape=(1,224,224,3))\n",
    "net.summary()"
   ]
  },
  {
   "cell_type": "code",
   "execution_count": null,
   "metadata": {},
   "outputs": [],
   "source": []
  }
 ],
 "metadata": {
  "kernelspec": {
   "display_name": "Python 3",
   "language": "python",
   "name": "python3"
  },
  "language_info": {
   "codemirror_mode": {
    "name": "ipython",
    "version": 3
   },
   "file_extension": ".py",
   "mimetype": "text/x-python",
   "name": "python",
   "nbconvert_exporter": "python",
   "pygments_lexer": "ipython3",
   "version": "3.8.5"
  }
 },
 "nbformat": 4,
 "nbformat_minor": 4
}
